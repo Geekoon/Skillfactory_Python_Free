{
 "cells": [
  {
   "cell_type": "code",
   "execution_count": 4,
   "metadata": {},
   "outputs": [
    {
     "name": "stdout",
     "output_type": "stream",
     "text": [
      "Название цветка: ываыва\n",
      "Цвет: белый\n",
      "Аня не фанат таких цветов\n"
     ]
    }
   ],
   "source": [
    "#варианты ответа: \"Ане понравятся эти цветы\", \"Аня не фанат таких цветов\").\n",
    "#flower = 'роза'\n",
    "#color = 'фиолетовый'\n",
    "\n",
    "flower = input('Название цветка: ')\n",
    "color = input('Цвет: ')\n",
    "\n",
    "if color == 'синий' or color == 'белый' and flower == 'роза':\n",
    "    print('Ане понравятся эти цветы')\n",
    "else:\n",
    "    print('Аня не фанат таких цветов')"
   ]
  },
  {
   "cell_type": "code",
   "execution_count": 5,
   "metadata": {},
   "outputs": [
    {
     "name": "stdout",
     "output_type": "stream",
     "text": [
      "Попробуем поискать ещё...\n"
     ]
    }
   ],
   "source": [
    "#выводить фразу: \"Ваша половинка нашлась!\", если подходит, и \"Попробуем поискать ещё...\", если нет. \n",
    "#рост которого выше 170 см, вес — менее 80 кг и его любимый цвет — красный.\n",
    "height = 180\n",
    "weight = 92\n",
    "color = 'синий'\n",
    "\n",
    "if height > 170 and weight < 80 and color == 'красный':\n",
    "    print('Ваша половинка нашлась!')\n",
    "else:\n",
    "    print('Попробуем поискать ещё...')\n"
   ]
  },
  {
   "cell_type": "code",
   "execution_count": 6,
   "metadata": {},
   "outputs": [
    {
     "name": "stdout",
     "output_type": "stream",
     "text": [
      "Введите целое число: 324\n",
      "Вова, это нужное число\n"
     ]
    }
   ],
   "source": [
    "#отвечает Вове \"Вова, это нужное число\", если среди делителей есть хотя бы одно число из 2, 5, 173, 821 \n",
    "#или \"Вова, в этот раз ты не попал\", если это не так.\n",
    "number = int(input('Введите целое число: '))\n",
    "\n",
    "if number%2 == 0 or number%5 == 0 or number%173 == 0 or number%821 == 0:\n",
    "    print('Вова, это нужное число')\n",
    "else:\n",
    "    print('Вова, в этот раз ты не попал')\n"
   ]
  },
  {
   "cell_type": "code",
   "execution_count": 11,
   "metadata": {},
   "outputs": [
    {
     "name": "stdout",
     "output_type": "stream",
     "text": [
      "Введите любимое слово: питон\n",
      "Python\n"
     ]
    }
   ],
   "source": [
    "#если это \"рептилия\", \"питон\" или \"змея\", выводит \"Python\"\n",
    "#если это \"плюс\" или \"плюсы\", выводит \"C++\"\n",
    "#если это \"рубин\" или \"кристалл\", выводит \"Ruby\"\n",
    "#если что-то другое, то тоже выводит \"Python\".\n",
    "\n",
    "fav_word = input('Введите любимое слово: ')\n",
    "\n",
    "if fav_word == \"рептилия\" or fav_word == \"питон\" or fav_word == \"змея\":\n",
    "    print(\"Python\")\n",
    "elif fav_word == \"плюс\" or fav_word == \"плюсы\":\n",
    "    print(\"C++\")\n",
    "elif fav_word == \"рубин\" or fav_word == \"кристалл\":\n",
    "    print(\"Ruby\")\n",
    "else: print(\"Python\")\n"
   ]
  },
  {
   "cell_type": "code",
   "execution_count": 20,
   "metadata": {},
   "outputs": [
    {
     "name": "stdout",
     "output_type": "stream",
     "text": [
      "Введите часы: 11\n",
      "Введите минуты: 13\n",
      "Преподаватель занят.\n"
     ]
    }
   ],
   "source": [
    "#ведёт занятия с 10:30 до 12:00, с 13:40 до 15:00, с 18:00 до 19:30. приходит в 10 утра, а уходит - в 20 часов.\n",
    "#выводит на экран \"Преподаватель свободен.\" или \"Преподаватель занят.\"\n",
    "\n",
    "hour = int(input('Введите часы: '))\n",
    "minute = int(input('Введите минуты: '))\n",
    "\n",
    "if ((hour > 9 and minute > 29) or (hour < 13 and minute <= 59)) and ((hour > 12 and minute > 39) or (hour < 16 and minute <= 59)) and ((hour > 17 and minute > 0) or (hour < 20 and minute <= 30)):\n",
    "    print('Преподаватель занят.')\n",
    "else:\n",
    "    print('Преподаватель свободен.')"
   ]
  }
 ],
 "metadata": {
  "kernelspec": {
   "display_name": "Python 3",
   "language": "python",
   "name": "python3"
  },
  "language_info": {
   "codemirror_mode": {
    "name": "ipython",
    "version": 3
   },
   "file_extension": ".py",
   "mimetype": "text/x-python",
   "name": "python",
   "nbconvert_exporter": "python",
   "pygments_lexer": "ipython3",
   "version": "3.7.6"
  }
 },
 "nbformat": 4,
 "nbformat_minor": 4
}
