{
 "cells": [
  {
   "cell_type": "code",
   "execution_count": 2,
   "metadata": {},
   "outputs": [
    {
     "name": "stdout",
     "output_type": "stream",
     "text": [
      "Введите слово/фразу для шифрования: привет друг\n",
      "рвтду\n"
     ]
    }
   ],
   "source": [
    "#исходные слова заменять на последовательность нечётных символов в этих словах. \n",
    "\n",
    "word = input('Введите слово/фразу для шифрования: ')\n",
    "\n",
    "for i, letter in enumerate(word):\n",
    "    if i%2 != 0:\n",
    "        print(letter)\n"
   ]
  },
  {
   "cell_type": "code",
   "execution_count": 5,
   "metadata": {},
   "outputs": [
    {
     "name": "stdout",
     "output_type": "stream",
     "text": [
      "Укажите год начала диапазона: 2003\n",
      "Укажите год конца диапазона: 2018\n",
      "2003 год невисокосный\n",
      "2004 год високосный\n",
      "2005 год невисокосный\n",
      "2006 год невисокосный\n",
      "2007 год невисокосный\n",
      "2008 год високосный\n",
      "2009 год невисокосный\n",
      "2010 год невисокосный\n",
      "2011 год невисокосный\n",
      "2012 год високосный\n",
      "2013 год невисокосный\n",
      "2014 год невисокосный\n",
      "2015 год невисокосный\n",
      "2016 год високосный\n",
      "2017 год невисокосный\n",
      "2018 год невисокосный\n"
     ]
    }
   ],
   "source": [
    "#выводит информацию: \"... год високосный\" или \"... год невисокосный\", где вместо многоточия указывается номер года.\n",
    "year_1 = int(input('Укажите год начала диапазона: '))\n",
    "year_2 = int(input('Укажите год конца диапазона: '))\n",
    "\n",
    "for i in range(year_1, year_2+1):\n",
    "    if i%4 == 0:\n",
    "        print(i, 'год високосный')\n",
    "    else:\n",
    "        print(i, 'год невисокосный')"
   ]
  },
  {
   "cell_type": "code",
   "execution_count": 6,
   "metadata": {},
   "outputs": [
    {
     "name": "stdout",
     "output_type": "stream",
     "text": [
      "Введите любое слово или фразу: пригашение в космос для пилотов\n",
      "и\n",
      "а\n",
      "е\n",
      "и\n",
      "е\n",
      "о\n",
      "о\n",
      "я\n",
      "и\n",
      "о\n",
      "о\n"
     ]
    }
   ],
   "source": [
    "#последовательно выводит все русские гласные из этого слова.\n",
    "word = input('Введите любое слово или фразу: ')\n",
    "\n",
    "for i, letter in enumerate(word):\n",
    "    if letter == 'а' or letter == 'о' or letter == 'е' or letter == 'и' or letter == 'у' or letter == 'ю' or letter == 'я' or letter == 'ы' or letter == 'э' or letter == 'ё':\n",
    "        print(letter)\n"
   ]
  },
  {
   "cell_type": "code",
   "execution_count": 8,
   "metadata": {},
   "outputs": [
    {
     "name": "stdout",
     "output_type": "stream",
     "text": [
      "Введите свое имя: лена\n",
      "Буква 1 в этом имени - л\n",
      "Буква 2 в этом имени - е\n",
      "Буква 3 в этом имени - н\n",
      "Буква 4 в этом имени - а\n"
     ]
    }
   ],
   "source": [
    "# фразы: \"Буква ... в этом имени - ...\" (например, \"Буква 1 в этом имени - С\"). \n",
    "name = input('Введите свое имя: ')\n",
    "\n",
    "for i, letter in enumerate(name):\n",
    "    print('Буква', i+1, 'в этом имени -', letter)"
   ]
  },
  {
   "cell_type": "code",
   "execution_count": 9,
   "metadata": {},
   "outputs": [
    {
     "name": "stdout",
     "output_type": "stream",
     "text": [
      "Введите первое число диапазона: 23\n",
      "Введите последнее число диапазона: 45\n",
      "25\n",
      "27\n",
      "33\n",
      "35\n",
      "39\n",
      "45\n"
     ]
    }
   ],
   "source": [
    "#выводит нечётные числа, которые делятся на 3 или 5 \n",
    "\n",
    "num_1 = int(input('Введите первое число диапазона: '))\n",
    "num_2 = int(input('Введите последнее число диапазона: '))\n",
    "\n",
    "if num_2 < num_1 or num_1 < 0:\n",
    "    print('Введён неверный диапазон чисел')\n",
    "else:\n",
    "    for i in range(num_1, num_2+1):\n",
    "        if i%2 != 0:\n",
    "            if i%3 == 0 or i%5 == 0:\n",
    "                print(i)\n",
    "            "
   ]
  },
  {
   "cell_type": "markdown",
   "metadata": {},
   "source": [
    "# Задания 1.5.2"
   ]
  },
  {
   "cell_type": "code",
   "execution_count": 11,
   "metadata": {},
   "outputs": [
    {
     "name": "stdout",
     "output_type": "stream",
     "text": [
      "1 1 1\n",
      "2 4 8\n",
      "3 9 27\n",
      "4 16 64\n",
      "5 25 125\n",
      "6 36 216\n",
      "7 49 343\n",
      "8 64 512\n",
      "9 81 729\n",
      "10 100 1000\n"
     ]
    }
   ],
   "source": [
    "#Выведите таблицу квадратов и кубов для чисел от 1 до 10 включительно\n",
    "for i in range(1, 11):\n",
    "    print(i, i**2, i**3)"
   ]
  },
  {
   "cell_type": "code",
   "execution_count": 13,
   "metadata": {},
   "outputs": [
    {
     "name": "stdout",
     "output_type": "stream",
     "text": [
      "15\n",
      "1\n",
      "3\n",
      "5\n",
      "15\n"
     ]
    }
   ],
   "source": [
    "#последовательно в порядке возрастания выводит все его делители на экран\n",
    "#(само число тоже является своим делителем)\n",
    "number = int(input())\n",
    "\n",
    "for i in range(1, number+1):\n",
    "    if number%i == 0:\n",
    "        print(i)"
   ]
  },
  {
   "cell_type": "code",
   "execution_count": 15,
   "metadata": {},
   "outputs": [
    {
     "name": "stdout",
     "output_type": "stream",
     "text": [
      "9\n",
      "27\n",
      "3\n",
      "9\n"
     ]
    }
   ],
   "source": [
    "#ищет все общие (не равные 1) делители двух чисел (num_1 и num_2)\n",
    "num_1 = int(input())\n",
    "num_2 = int(input())\n",
    "\n",
    "if num_1 >= num_2:\n",
    "    max = num_1\n",
    "else:\n",
    "    max = num_2\n",
    "\n",
    "for i in range(2, max+1):\n",
    "    if num_1%i == 0 and num_2%i == 0:\n",
    "        print(i)"
   ]
  },
  {
   "cell_type": "code",
   "execution_count": 17,
   "metadata": {},
   "outputs": [
    {
     "name": "stdout",
     "output_type": "stream",
     "text": [
      "Введите любое натуральное число: 7\n",
      "13\n"
     ]
    }
   ],
   "source": [
    "#выводит n-е число ряда Фибоначчи на экран.\n",
    "n = int(input('Введите любое натуральное число: '))\n",
    "\n",
    "k = 1\n",
    "bk = 0\n",
    "for i in range(2, n+1):\n",
    "    t = k\n",
    "    k += bk\n",
    "    bk = t\n",
    "else:\n",
    "    print(k)\n"
   ]
  },
  {
   "cell_type": "code",
   "execution_count": 19,
   "metadata": {},
   "outputs": [
    {
     "name": "stdout",
     "output_type": "stream",
     "text": [
      "Введите целое число: 6\n",
      "6 X 1 = 6\n",
      "6 X 2 = 12\n",
      "6 X 3 = 18\n",
      "6 X 4 = 24\n",
      "6 X 5 = 30\n",
      "6 X 6 = 36\n",
      "6 X 7 = 42\n",
      "6 X 8 = 48\n",
      "6 X 9 = 54\n",
      "6 X 10 = 60\n"
     ]
    }
   ],
   "source": [
    "#выводит таблицу умножения от 1 до 10 для выбранного целого числа (number). \n",
    "number = int(input('Введите целое число: '))\n",
    "\n",
    "for i in range(1, 11):\n",
    "    print(number, 'X', i, '=', number*i)"
   ]
  },
  {
   "cell_type": "markdown",
   "metadata": {},
   "source": [
    "# Задания 1.5.3"
   ]
  },
  {
   "cell_type": "code",
   "execution_count": 3,
   "metadata": {},
   "outputs": [
    {
     "name": "stdout",
     "output_type": "stream",
     "text": [
      "187\n",
      "3945\n",
      "Общих делителей не найдено\n"
     ]
    }
   ],
   "source": [
    "#ищет наибольший (не равный 1) общий делитель двух чисел, введённых пользователем\n",
    "#Если общих делителей нет, выводит на экран \"Общих делителей не найдено\".\n",
    "num_1 = int(input())\n",
    "num_2 = int(input())\n",
    "\n",
    "for i in range(num_1+1, 2, -1):\n",
    "    if num_1%i == 0 and num_2%i == 0:\n",
    "        print(i)\n",
    "        break\n",
    "else:\n",
    "    print('Общих делителей не найдено')"
   ]
  },
  {
   "cell_type": "code",
   "execution_count": 6,
   "metadata": {},
   "outputs": [
    {
     "name": "stdout",
     "output_type": "stream",
     "text": [
      "арбуз везет барабан\n",
      "руз езет рн"
     ]
    }
   ],
   "source": [
    "#выводит её посимвольно, но без букв а, б, в. Пример: ввод \"арбуз\", вывод \"руз\".\n",
    "string = input()\n",
    "\n",
    "for i, letter in enumerate(string):\n",
    "    if letter == 'а' or letter == 'б' or letter == 'в':\n",
    "        continue\n",
    "    print(letter, end='')"
   ]
  },
  {
   "cell_type": "code",
   "execution_count": 5,
   "metadata": {},
   "outputs": [
    {
     "name": "stdout",
     "output_type": "stream",
     "text": [
      "Любите ли вы Python? Да\n",
      "Это отлично!\n",
      "Любите ли вы Python? Возможно\n",
      "Увы, это неправильный ответ\n",
      "Любите ли вы Python? Нет\n",
      "Увы, это неправильный ответ\n",
      "Любите ли вы Python? Нет\n",
      "Увы, это неправильный ответ\n",
      "Любите ли вы Python? Нет\n",
      "Увы, это неправильный ответ\n"
     ]
    }
   ],
   "source": [
    "#на вопрос \"Любите ли вы Python?\".\n",
    "#Если ответ пользователя (string) - \"Да\", то программа отвечает: \"Это отлично!\"\n",
    "#иначе программа отвечает: \"Увы, это неправильный ответ\".\n",
    "#Программа должна \"спросить\" пользователя максимум 5 раз. При пяти ответах \"Нет\" выводит: \"Это безнадёжно!\".\n",
    "\n",
    "no_count = 0\n",
    "for i in range(5):\n",
    "    string = input('Любите ли вы Python? ')\n",
    "    if string == 'Да':\n",
    "        print('Это отлично!')\n",
    "        continue\n",
    "    if string == 'Нет':\n",
    "        no_count += 1\n",
    "    if string == 'Нет' and no_count == 5:\n",
    "        print('Это безнадёжно!')\n",
    "        continue\n",
    "    else:\n",
    "        print('Увы, это неправильный ответ')\n",
    "       \n"
   ]
  },
  {
   "cell_type": "code",
   "execution_count": 9,
   "metadata": {},
   "outputs": [
    {
     "name": "stdout",
     "output_type": "stream",
     "text": [
      "Введите целое число: 1\n",
      "Простое\n"
     ]
    }
   ],
   "source": [
    "#Если число простое, то программа выводит \"Простое\", иначе \"Не является простым\".\n",
    "number = int(input('Введите целое число: '))\n",
    "\n",
    "for i in range(2, number):\n",
    "    if number%i == 0:\n",
    "        print('Не является простым')\n",
    "        break\n",
    "else:\n",
    "    print('Простое')"
   ]
  },
  {
   "cell_type": "code",
   "execution_count": 10,
   "metadata": {},
   "outputs": [
    {
     "name": "stdout",
     "output_type": "stream",
     "text": [
      "Введите строку: пока\n",
      "Какая хорошая строка!\n"
     ]
    }
   ],
   "source": [
    "# соответствие правилу: у строки нет ни одной гласной русской маленькой буквы на каждой чётной позиции.\n",
    "#Пример подходящей строки: \"пока!\" \n",
    "#Если строка подходит, программа выводит на экран \"Какая хорошая строка!\", а иначе — \"Строка мне не нравится!\".\n",
    "string = input('Введите строку: ')\n",
    "\n",
    "for i, letter in enumerate(string):\n",
    "    if i%2 == 0 and (letter == 'а' or letter == 'о' or letter == 'е' or letter == 'и' or letter == 'у' or letter == 'ю' or letter == 'я' or letter == 'ы' or letter == 'э' or letter == 'ё'):\n",
    "        print('Строка мне не нравится!')\n",
    "        break\n",
    "        \n",
    "else:\n",
    "    print('Какая хорошая строка!')\n"
   ]
  },
  {
   "cell_type": "markdown",
   "metadata": {},
   "source": [
    "# Задания 1.5.4"
   ]
  },
  {
   "cell_type": "code",
   "execution_count": 21,
   "metadata": {},
   "outputs": [
    {
     "name": "stdout",
     "output_type": "stream",
     "text": [
      "Внесенная на вклад сумма: 170000\n",
      "Необходимо получить: 1000000\n",
      "19\n"
     ]
    }
   ],
   "source": [
    "#вклад под 10% годовых и положил на этот счёт Y рублей. \n",
    "#через сколько лет клиент будет иметь на счету сумму не менее Z рублей. \n",
    "Y = int(input('Внесенная на вклад сумма: '))\n",
    "Z = int(input('Необходимо получить: '))\n",
    "\n",
    "years_counter = 0\n",
    "while Y < Z:\n",
    "    Y += round(Y*0.1)\n",
    "    years_counter += 1\n",
    "else:\n",
    "    print(years_counter)"
   ]
  },
  {
   "cell_type": "code",
   "execution_count": 30,
   "metadata": {},
   "outputs": [
    {
     "name": "stdout",
     "output_type": "stream",
     "text": [
      "Вес пассажира: 65\n",
      "Вес пассажира: 78\n",
      "Вес пассажира: 110\n",
      "Вес пассажира: 70\n",
      "Вес пассажира: 35\n",
      "Вес пассажира: 20\n",
      "Вес пассажира: 90\n",
      "Перевес 68 кг\n"
     ]
    }
   ],
   "source": [
    "#не более 400 кг единовременно. \n",
    "#Пусть на вход программе поступает вес (weight) входящих в лифт людей,\n",
    "#а в случае, когда возникает перевес, программа выдаёт предупреждение: \"Перевес ... кг\".\n",
    "\n",
    "current_weight = 0\n",
    "weight = 0\n",
    "while current_weight < 400:\n",
    "    weight = int(input('Вес пассажира: '))\n",
    "    current_weight += weight\n",
    "else:\n",
    "    print('Перевес', current_weight-400, 'кг')\n"
   ]
  },
  {
   "cell_type": "code",
   "execution_count": 27,
   "metadata": {},
   "outputs": [
    {
     "name": "stdout",
     "output_type": "stream",
     "text": [
      "7\n"
     ]
    }
   ],
   "source": [
    "#наносит один удар, который отнимает у вас 80 единиц здоровья.\n",
    "# с боссом вы вышли с 500 единицами здоровья. \n",
    "#Создайте цикл, позволяющий понять, через сколько секунд босс вас убьет.\n",
    "current_health = 500\n",
    "attack = 80\n",
    "sec = 0\n",
    "\n",
    "while current_health > 0:\n",
    "    current_health -= 80\n",
    "    sec += 1\n",
    "else:\n",
    "    print(sec)"
   ]
  },
  {
   "cell_type": "code",
   "execution_count": 28,
   "metadata": {},
   "outputs": [
    {
     "name": "stdout",
     "output_type": "stream",
     "text": [
      "10000\n",
      "Потратил: 5345\n",
      "4655\n",
      "Потратил: 5464\n",
      "Слишком большие расходы\n"
     ]
    }
   ],
   "source": [
    "#На банковской карте хранятся 10 000 рублей. Хозяин карты написал программу,\n",
    "#в которую вводит свои расходы (spent), после чего программа показывает баланс (balance).\n",
    "#Когда сумма средств на карте становится ниже нуля, программа выводит сообщение: \"Слишком большие расходы\".\n",
    "balance = 10000\n",
    "\n",
    "while balance > 0:\n",
    "    print(balance)\n",
    "    spent = int(input('Потратил: '))\n",
    "    balance -= spent\n",
    "else:\n",
    "    print('Слишком большие расходы')"
   ]
  },
  {
   "cell_type": "code",
   "execution_count": 29,
   "metadata": {},
   "outputs": [
    {
     "name": "stdout",
     "output_type": "stream",
     "text": [
      "20\n"
     ]
    }
   ],
   "source": [
    "#перед вами большая цистерна объёмом 1000 литров, которую необходимо заполнить водой.\n",
    "#У вас есть робот, который доставляет в цистерну сначала 5 литров,\n",
    "#а затем каждый раз на 5 литров больше, чем в предыдущий. Изначально в цистерне нет воды.\n",
    "#Через сколько заходов робота вода польётся через край?\n",
    "#программа должна вывести на экран число заходов\n",
    "volume = 1000\n",
    "step_counter = 0\n",
    "\n",
    "while volume > 0:\n",
    "    step_counter += 1\n",
    "    volume -= 5*step_counter\n",
    "else:\n",
    "    print(step_counter)\n"
   ]
  },
  {
   "cell_type": "code",
   "execution_count": 39,
   "metadata": {},
   "outputs": [
    {
     "name": "stdout",
     "output_type": "stream",
     "text": [
      "что-то: dgdfgdfg\n",
      "2102405987312\n"
     ]
    }
   ],
   "source": [
    "kkk = id(input('что-то: '))\n",
    "print(kkk)"
   ]
  },
  {
   "cell_type": "code",
   "execution_count": 40,
   "metadata": {},
   "outputs": [
    {
     "name": "stdout",
     "output_type": "stream",
     "text": [
      "Значение 0 сейчас в цикле\n",
      "Значение 1.3 сейчас в цикле\n",
      "Значение 2.6 сейчас в цикле\n",
      "Значение 3.9000000000000004 сейчас в цикле\n",
      "Значение 5.2 сейчас в цикле\n",
      "Значение 6.5 сейчас в цикле\n",
      "Значение 7.8 сейчас в цикле\n",
      "Значение 9.1 сейчас в цикле\n",
      "10.4\n"
     ]
    }
   ],
   "source": [
    "k = 0\n",
    "while k < 10:\n",
    "    print('Значение {} сейчас в цикле'.format(k))\n",
    "    k += 1.3\n",
    "else:\n",
    "    print(k)"
   ]
  }
 ],
 "metadata": {
  "kernelspec": {
   "display_name": "Python 3",
   "language": "python",
   "name": "python3"
  },
  "language_info": {
   "codemirror_mode": {
    "name": "ipython",
    "version": 3
   },
   "file_extension": ".py",
   "mimetype": "text/x-python",
   "name": "python",
   "nbconvert_exporter": "python",
   "pygments_lexer": "ipython3",
   "version": "3.7.6"
  }
 },
 "nbformat": 4,
 "nbformat_minor": 4
}
