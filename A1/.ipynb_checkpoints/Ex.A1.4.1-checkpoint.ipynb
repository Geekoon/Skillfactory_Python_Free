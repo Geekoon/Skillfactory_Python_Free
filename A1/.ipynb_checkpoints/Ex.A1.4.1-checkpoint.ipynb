{
 "cells": [
  {
   "cell_type": "code",
   "execution_count": 5,
   "metadata": {},
   "outputs": [
    {
     "name": "stdout",
     "output_type": "stream",
     "text": [
      "Это слово длинное.\n"
     ]
    }
   ],
   "source": [
    "word = 'ОченьДлинноеСлово'\n",
    "if len(word) < 8:\n",
    "    print('Это слово короткое.')\n",
    "else:\n",
    "    print('Это слово длинное.')"
   ]
  },
  {
   "cell_type": "code",
   "execution_count": 8,
   "metadata": {},
   "outputs": [
    {
     "name": "stdout",
     "output_type": "stream",
     "text": [
      "Квадратный корень из 165 - не целое число.\n"
     ]
    }
   ],
   "source": [
    "number = 165\n",
    "\n",
    "a = number**(1/2)\n",
    "b = a%1\n",
    "if b == 0:\n",
    "    print(int(b))\n",
    "else:\n",
    "    print('Квадратный корень из', number, '- не целое число.')\n"
   ]
  },
  {
   "cell_type": "markdown",
   "metadata": {},
   "source": [
    "## Далее 1.4.2"
   ]
  },
  {
   "cell_type": "code",
   "execution_count": 15,
   "metadata": {},
   "outputs": [
    {
     "name": "stdout",
     "output_type": "stream",
     "text": [
      "Введите число от 1 до 7: 2\n",
      "вторник\n"
     ]
    }
   ],
   "source": [
    "number = int(input('Введите число от 1 до 7: '))\n",
    "\n",
    "if number == 1:\n",
    "    print('понедельник')\n",
    "elif number == 2:\n",
    "    print('вторник')\n",
    "elif number == 3:\n",
    "    print('среда')\n",
    "elif number == 4:\n",
    "    print('четверг')\n",
    "elif number == 5:\n",
    "    print('пятница')\n",
    "elif number == 6:\n",
    "    print('суббота')\n",
    "elif number == 7:\n",
    "    print('воскресенье')\n",
    "else:\n",
    "    print('Вы ввели неправильное число! Лоботряс!')\n"
   ]
  },
  {
   "cell_type": "code",
   "execution_count": 3,
   "metadata": {},
   "outputs": [
    {
     "name": "stdout",
     "output_type": "stream",
     "text": [
      "Введите вес в кг: 54\n",
      "Введите рост в м: 1.8\n",
      "Недостаточная масса тела\n"
     ]
    }
   ],
   "source": [
    "weight = float(input('Введите вес в кг: '))\n",
    "height = float(input('Введите рост в м: '))\n",
    "#weight = 80\n",
    "#height = 1.8\n",
    "\n",
    "imt = weight/(height**2)\n",
    "if imt < 18.5:\n",
    "    print('Недостаточная масса тела')\n",
    "elif imt > 24.99:\n",
    "    print('Избыточная масса тела')\n",
    "else:\n",
    "    print('Норма')\n"
   ]
  },
  {
   "cell_type": "code",
   "execution_count": 33,
   "metadata": {},
   "outputs": [
    {
     "name": "stdout",
     "output_type": "stream",
     "text": [
      "Оценка=00\n",
      "неудовлетворительно\n"
     ]
    }
   ],
   "source": [
    "#меньше 4 — 'неудовлетворительно', 4-5 —'удовлетворительно', 6-7 — 'хорошо', 8 и выше — 'отлично'\n",
    "mark = int(input('Оценка='))\n",
    "\n",
    "if mark < 4:\n",
    "    print('неудовлетворительно')\n",
    "elif mark > 7 and mark < 11:\n",
    "    print('отлично')\n",
    "elif mark == 4 or mark == 5:\n",
    "    print('удовлетворительно')\n",
    "elif mark == 6 or mark == 7:\n",
    "    print('хорошо')\n",
    "else:\n",
    "    print(mark, '- это неправильная оценка!!!')"
   ]
  },
  {
   "cell_type": "code",
   "execution_count": 23,
   "metadata": {},
   "outputs": [
    {
     "name": "stdout",
     "output_type": "stream",
     "text": [
      "Сколько денег осталось? 500\n",
      "Придётся потерпеть!\n"
     ]
    }
   ],
   "source": [
    "#\"Сегодня твой выбор - ресторан!\", \"Эх, только фастфуд.\" и \"Придётся потерпеть!\").\n",
    "\n",
    "balance = float(input('Сколько денег осталось? '))\n",
    "\n",
    "if balance > 5000:\n",
    "    print('Сегодня твой выбор - ресторан!')\n",
    "elif balance < 2500:\n",
    "    print('Придётся потерпеть!')\n",
    "else:\n",
    "    print('Эх, только фастфуд.')"
   ]
  },
  {
   "cell_type": "code",
   "execution_count": 22,
   "metadata": {},
   "outputs": [
    {
     "name": "stdout",
     "output_type": "stream",
     "text": [
      "Введите целое число: 123456807674\n",
      "Число делится на 2 без остатка.\n"
     ]
    }
   ],
   "source": [
    "# \"Число делится на 2 без остатка.\", \"Число делится на 3 без остатка.\",\n",
    "# \"Число делится на 5 без остатка.\", \"Число не делится ни на 2, ни на 3, ни на 5 без остатка!\".\n",
    "number = int(input('Введите целое число: '))\n",
    "\n",
    "if number%2 == 0:\n",
    "    print('Число делится на 2 без остатка.')\n",
    "elif number%3 == 0:\n",
    "    print('Число делится на 3 без остатка.')\n",
    "elif number%5 == 0:\n",
    "    print('Число делится на 5 без остатка.')\n",
    "else:\n",
    "    print('Число не делится ни на 2, ни на 3, ни на 5 без остатка!')"
   ]
  },
  {
   "cell_type": "code",
   "execution_count": 44,
   "metadata": {},
   "outputs": [
    {
     "name": "stdout",
     "output_type": "stream",
     "text": [
      "True\n"
     ]
    }
   ],
   "source": [
    "print(\"5a\"<\"5b\")"
   ]
  },
  {
   "cell_type": "code",
   "execution_count": 45,
   "metadata": {
    "scrolled": true
   },
   "outputs": [
    {
     "data": {
      "text/plain": [
       "False"
      ]
     },
     "execution_count": 45,
     "metadata": {},
     "output_type": "execute_result"
    }
   ],
   "source": [
    "a = True \n",
    "b = False\n",
    "a and b or not a and not b"
   ]
  },
  {
   "cell_type": "code",
   "execution_count": 47,
   "metadata": {},
   "outputs": [
    {
     "data": {
      "text/plain": [
       "False"
      ]
     },
     "execution_count": 47,
     "metadata": {},
     "output_type": "execute_result"
    }
   ],
   "source": [
    "False and True or 12<5**2 and \"Python\" > \"Ruby\""
   ]
  },
  {
   "cell_type": "code",
   "execution_count": 48,
   "metadata": {},
   "outputs": [
    {
     "data": {
      "text/plain": [
       "True"
      ]
     },
     "execution_count": 48,
     "metadata": {},
     "output_type": "execute_result"
    }
   ],
   "source": [
    "\"Android\" > \"Apple\" or \"Apple\" > \"Android\""
   ]
  },
  {
   "cell_type": "code",
   "execution_count": 50,
   "metadata": {},
   "outputs": [
    {
     "data": {
      "text/plain": [
       "True"
      ]
     },
     "execution_count": 50,
     "metadata": {},
     "output_type": "execute_result"
    }
   ],
   "source": [
    "x = 10 \n",
    "y = 15\n",
    "y > x**y - 1000 or \"test\" > \"push\"\n"
   ]
  },
  {
   "cell_type": "code",
   "execution_count": 52,
   "metadata": {},
   "outputs": [
    {
     "data": {
      "text/plain": [
       "True"
      ]
     },
     "execution_count": 52,
     "metadata": {},
     "output_type": "execute_result"
    }
   ],
   "source": [
    "\"239\" < \"30\""
   ]
  }
 ],
 "metadata": {
  "kernelspec": {
   "display_name": "Python 3",
   "language": "python",
   "name": "python3"
  },
  "language_info": {
   "codemirror_mode": {
    "name": "ipython",
    "version": 3
   },
   "file_extension": ".py",
   "mimetype": "text/x-python",
   "name": "python",
   "nbconvert_exporter": "python",
   "pygments_lexer": "ipython3",
   "version": "3.7.6"
  }
 },
 "nbformat": 4,
 "nbformat_minor": 4
}
