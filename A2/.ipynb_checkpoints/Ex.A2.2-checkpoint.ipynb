{
 "cells": [
  {
   "cell_type": "code",
   "execution_count": 5,
   "metadata": {},
   "outputs": [
    {
     "name": "stdout",
     "output_type": "stream",
     "text": [
      "Александр\n",
      "Мария\n",
      "Вячеслав\n",
      "Вячеслав\n",
      "Арина\n"
     ]
    }
   ],
   "source": [
    "OurBestStudents = ['Александр', 'Константин', 'Мария', 'Диана', 'Алексей', \n",
    "                   'Максим', 'Светлана', 'Арина', 'Серафим', 'Doomer', \n",
    "                   'Павел', 'Виктория', 'Елена', 'Галина', 'Вячеслав']\n",
    "print(OurBestStudents[0])\n",
    "print(OurBestStudents[2])\n",
    "print(OurBestStudents[-1])\n",
    "print(OurBestStudents[14])\n",
    "print(OurBestStudents[-8])"
   ]
  },
  {
   "cell_type": "code",
   "execution_count": 10,
   "metadata": {},
   "outputs": [
    {
     "name": "stdout",
     "output_type": "stream",
     "text": [
      "1 = Константин\n",
      "3 = Диана\n",
      "5 = Максим\n",
      "7 = Арина\n",
      "9 = Doomer\n",
      "11 = Виктория\n",
      "13 = Галина\n"
     ]
    }
   ],
   "source": [
    "for i in range(15):\n",
    "    if i%2 != 0:\n",
    "        print(i, \"=\", OurBestStudents[i])"
   ]
  },
  {
   "cell_type": "code",
   "execution_count": 12,
   "metadata": {},
   "outputs": [
    {
     "name": "stdout",
     "output_type": "stream",
     "text": [
      "0 = Александр\n",
      "2 = Мария\n",
      "4 = Алексей\n",
      "6 = Светлана\n",
      "8 = Серафим\n",
      "10 = Павел\n",
      "12 = Елена\n",
      "14 = Вячеслав\n"
     ]
    }
   ],
   "source": [
    "for i in range(15):\n",
    "    if i%2 == 0:\n",
    "        print(i, \"=\", OurBestStudents[i])"
   ]
  },
  {
   "cell_type": "code",
   "execution_count": 14,
   "metadata": {},
   "outputs": [
    {
     "data": {
      "text/plain": [
       "['жёлтый', 'зелёный', 'голубой']"
      ]
     },
     "execution_count": 14,
     "metadata": {},
     "output_type": "execute_result"
    }
   ],
   "source": [
    "colors = ['красный', 'оранжевый', 'жёлтый', 'зелёный', 'голубой', 'синий', 'фиолетовый']\n",
    "colors[-5:5]"
   ]
  },
  {
   "cell_type": "code",
   "execution_count": 28,
   "metadata": {},
   "outputs": [
    {
     "data": {
      "text/plain": [
       "['руки', 'ноги']"
      ]
     },
     "execution_count": 28,
     "metadata": {},
     "output_type": "execute_result"
    }
   ],
   "source": [
    "body = ['голова', 'руки', 'ноги', 'глаза', 'уши', 'рот', 'нос', 'туловище']\n",
    "body[:]\n",
    "body[1:3]\n",
    "body[-7:-5]"
   ]
  },
  {
   "cell_type": "code",
   "execution_count": 35,
   "metadata": {},
   "outputs": [
    {
     "name": "stdout",
     "output_type": "stream",
     "text": [
      "['Иванов', 'Сидоров', 'Дятлов', 'Лисичкин', 'Капустин']\n",
      "['Петров', 'Дятлов', 'Огурцов']\n",
      "['Иванов', 'Козлов']\n",
      "['Арбузов', 'Лисичкин', 'Зайцев', 'Иванов']\n",
      "['Капустин', 'Козлов', 'Сидоров']\n"
     ]
    }
   ],
   "source": [
    "sparta = ['Иванов', 'Петров', 'Сидоров', 'Зайцев', 'Дятлов', \n",
    "          'Козлов', 'Лисичкин', 'Огурцов', 'Капустин', 'Арбузов']\n",
    "print(sparta[0:-1:2])\n",
    "print(sparta[1:-1:3])\n",
    "print(sparta[0:-1:5])\n",
    "print(sparta[::-3])\n",
    "print(sparta[-2:1:-3])"
   ]
  },
  {
   "cell_type": "markdown",
   "metadata": {},
   "source": [
    "## A2.2.5 Методы для работы со списками"
   ]
  },
  {
   "cell_type": "code",
   "execution_count": 2,
   "metadata": {},
   "outputs": [
    {
     "name": "stdout",
     "output_type": "stream",
     "text": [
      "408\n"
     ]
    }
   ],
   "source": [
    "# создаёт список, содержащий целые, кратные трём числа в интервале от 1 до 50. Найдите сумму элементов этого списка.\n",
    "mlist = []\n",
    "for n in range(1,50):\n",
    "  if n%3 == 0:\n",
    "    mlist.append(n)\n",
    "result = 0\n",
    "for k in mlist:\n",
    "  result += k\n",
    "print(result)"
   ]
  },
  {
   "cell_type": "code",
   "execution_count": 5,
   "metadata": {},
   "outputs": [
    {
     "name": "stdout",
     "output_type": "stream",
     "text": [
      "408\n"
     ]
    }
   ],
   "source": [
    "# Вариант короче, с одним циклом\n",
    "mlist = []\n",
    "result = 0\n",
    "for n in range(1,50):\n",
    "  if n%3 == 0:\n",
    "    mlist.append(n)\n",
    "    result += n\n",
    "print(result)"
   ]
  },
  {
   "cell_type": "code",
   "execution_count": 7,
   "metadata": {},
   "outputs": [
    {
     "name": "stdout",
     "output_type": "stream",
     "text": [
      "[10, 5, 7, 6, 7, 5, 7]\n"
     ]
    }
   ],
   "source": [
    "# создаёт список my_list, содержащий длины слов из списка raw_list \n",
    "# находит сумму минимального и максимального элементов нового списка (my_list)\n",
    "# Результат вычислений (сумма минимального и максимального элементов списка my_list) присвойте переменной result.\n",
    "raw_list = ['переменные', 'циклы', 'условия', 'списки', 'словари', 'файлы', 'функции']\n",
    "my_list = []\n",
    "for n in raw_list:\n",
    "    my_list.append(len(n))\n",
    "print(my_list)"
   ]
  }
 ],
 "metadata": {
  "kernelspec": {
   "display_name": "Python 3",
   "language": "python",
   "name": "python3"
  },
  "language_info": {
   "codemirror_mode": {
    "name": "ipython",
    "version": 3
   },
   "file_extension": ".py",
   "mimetype": "text/x-python",
   "name": "python",
   "nbconvert_exporter": "python",
   "pygments_lexer": "ipython3",
   "version": "3.7.6"
  }
 },
 "nbformat": 4,
 "nbformat_minor": 4
}
